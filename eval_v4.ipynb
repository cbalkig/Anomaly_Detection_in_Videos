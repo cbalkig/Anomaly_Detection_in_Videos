{
  "nbformat": 4,
  "nbformat_minor": 0,
  "metadata": {
    "colab": {
      "name": "Copy of Copy of train.ipynb",
      "private_outputs": true,
      "provenance": [],
      "collapsed_sections": [],
      "toc_visible": true,
      "machine_shape": "hm",
      "include_colab_link": true
    },
    "kernelspec": {
      "name": "python3",
      "display_name": "Python 3"
    },
    "accelerator": "GPU"
  },
  "cells": [
    {
      "cell_type": "markdown",
      "metadata": {
        "id": "view-in-github",
        "colab_type": "text"
      },
      "source": [
        "<a href=\"https://colab.research.google.com/github/cbalkig/Anomaly_Detection_in_Videos/blob/master/eval_v4.ipynb\" target=\"_parent\"><img src=\"https://colab.research.google.com/assets/colab-badge.svg\" alt=\"Open In Colab\"/></a>"
      ]
    },
    {
      "cell_type": "code",
      "metadata": {
        "id": "Z5l0wNtKs7vP"
      },
      "source": [
        "import os\n",
        "from os import listdir\n",
        "from os.path import join, isdir\n",
        "import numpy as np\n",
        "from PIL import Image\n",
        "import keras\n",
        "from keras.layers import Conv2DTranspose, ConvLSTM2D, TimeDistributed, Conv2D\n",
        "from keras.models import Sequential, load_model\n",
        "from tensorflow.keras.layers import Conv2D, Conv3D, BatchNormalization\n",
        "import matplotlib.pyplot as plt\n",
        "import time\n",
        "from numpy import save, load\n",
        "%matplotlib inline\n",
        "import matplotlib.pyplot as plt"
      ],
      "execution_count": null,
      "outputs": []
    },
    {
      "cell_type": "code",
      "metadata": {
        "id": "hDd3-dzSs82m"
      },
      "source": [
        "working_directory = '/content/drive/MyDrive/AnomalyDetectionInVideos'"
      ],
      "execution_count": null,
      "outputs": []
    },
    {
      "cell_type": "code",
      "metadata": {
        "id": "pKtCPjOYs97U"
      },
      "source": [
        "class Config:\n",
        "    DATASET_PATH = os.path.join(working_directory, \"test\")\n",
        "    TEST_FOLDER = \"c9173db7-974c-4114-b13f-226c3a5d4297\"\n",
        "    MODEL_PATH = os.path.join(working_directory, \"model.hdf5\")\n",
        "    IMAGE_SIZE = 256"
      ],
      "execution_count": null,
      "outputs": []
    },
    {
      "cell_type": "code",
      "metadata": {
        "id": "SEitB-7qtDeZ"
      },
      "source": [
        "def get_test_data():\n",
        "    directory_path = join(Config.DATASET_PATH, Config.TEST_FOLDER)\n",
        "    video = np.zeros((len(listdir(directory_path)), Config.IMAGE_SIZE, Config.IMAGE_SIZE, 1))\n",
        "    print(\"Processing\", directory_path)\n",
        "    count = 0\n",
        "    for c in sorted(listdir(directory_path)):\n",
        "        #print(\"Frame #\", count)\n",
        "        img_path = join(directory_path, c)\n",
        "        if str(img_path)[-3:] == \"tif\":\n",
        "            img = Image.open(img_path).resize((Config.IMAGE_SIZE, Config.IMAGE_SIZE))\n",
        "            img = np.array(img, dtype=np.float32) / 256.0\n",
        "            img = np.reshape(img, img.shape + (1,))\n",
        "            video[count] = img\n",
        "            count = count + 1\n",
        "    return video"
      ],
      "execution_count": null,
      "outputs": []
    },
    {
      "cell_type": "code",
      "metadata": {
        "id": "S93thOCmzGJd"
      },
      "source": [
        "test_data = get_test_data()\n",
        "test_data = np.array(test_data)\n",
        "save(join(Config.DATASET_PATH, 'test_data.npy'), test_data)\n",
        "print(\"Shape of test data\", test_data.shape)"
      ],
      "execution_count": null,
      "outputs": []
    },
    {
      "cell_type": "code",
      "metadata": {
        "id": "zxThkfDO3jDe"
      },
      "source": [
        "def get_model(reload_model=True):\n",
        "    return load_model(Config.MODEL_PATH)"
      ],
      "execution_count": null,
      "outputs": []
    },
    {
      "cell_type": "code",
      "metadata": {
        "id": "Fe_09tfotJjQ"
      },
      "source": [
        "model = get_model()\n",
        "print(\"Model is ready.\")"
      ],
      "execution_count": null,
      "outputs": []
    },
    {
      "cell_type": "code",
      "metadata": {
        "id": "ABPAHkxlRu3d"
      },
      "source": [
        "predictions = []\n",
        "plt.figure(figsize=(10,10))\n",
        "for idx in range(len(test_data)):\n",
        "    frame = test_data[idx]\n",
        "    frame = np.reshape(frame, (1,) + frame.shape)\n",
        "    prediction = model.predict(frame)\n",
        "    predictions.append(np.max(prediction))"
      ],
      "execution_count": null,
      "outputs": []
    },
    {
      "cell_type": "code",
      "metadata": {
        "id": "HQGxCakjyE-6"
      },
      "source": [
        "import matplotlib.pyplot as plt \n",
        "print(predictions)\n",
        "plt.plot(predictions)\n",
        "plt.ylim(0, 1)\n",
        "plt.show()"
      ],
      "execution_count": null,
      "outputs": []
    }
  ]
}