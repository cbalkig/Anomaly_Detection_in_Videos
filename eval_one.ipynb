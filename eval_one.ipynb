{
  "nbformat": 4,
  "nbformat_minor": 0,
  "metadata": {
    "accelerator": "GPU",
    "colab": {
      "name": "Untitled0.ipynb",
      "provenance": [],
      "collapsed_sections": [],
      "machine_shape": "hm",
      "mount_file_id": "1ryBJlXTXfYQg7nG7CcRpvd1W_rHgKSnQ",
      "authorship_tag": "ABX9TyP06yGXE3spwTJ9x+nmYS0P",
      "include_colab_link": true
    },
    "kernelspec": {
      "display_name": "Python 3",
      "name": "python3"
    }
  },
  "cells": [
    {
      "cell_type": "markdown",
      "metadata": {
        "id": "view-in-github",
        "colab_type": "text"
      },
      "source": [
        "<a href=\"https://colab.research.google.com/github/cbalkig/Anomaly_Detection_in_Videos/blob/master/eval_one.ipynb\" target=\"_parent\"><img src=\"https://colab.research.google.com/assets/colab-badge.svg\" alt=\"Open In Colab\"/></a>"
      ]
    },
    {
      "cell_type": "code",
      "metadata": {
        "colab": {
          "base_uri": "https://localhost:8080/"
        },
        "id": "jZLlUbxsxupv",
        "outputId": "a6f43edb-7768-49da-8e36-8a82ae2a33a0"
      },
      "source": [
        "pip install keras_layer_normalization"
      ],
      "execution_count": 1,
      "outputs": [
        {
          "output_type": "stream",
          "text": [
            "Collecting keras_layer_normalization\n",
            "  Downloading https://files.pythonhosted.org/packages/a4/0e/d1078df0494bac9ce1a67954e5380b6e7569668f0f3b50a9531c62c1fc4a/keras-layer-normalization-0.14.0.tar.gz\n",
            "Requirement already satisfied: numpy in /usr/local/lib/python3.6/dist-packages (from keras_layer_normalization) (1.19.4)\n",
            "Requirement already satisfied: Keras in /usr/local/lib/python3.6/dist-packages (from keras_layer_normalization) (2.4.3)\n",
            "Requirement already satisfied: pyyaml in /usr/local/lib/python3.6/dist-packages (from Keras->keras_layer_normalization) (3.13)\n",
            "Requirement already satisfied: scipy>=0.14 in /usr/local/lib/python3.6/dist-packages (from Keras->keras_layer_normalization) (1.4.1)\n",
            "Requirement already satisfied: h5py in /usr/local/lib/python3.6/dist-packages (from Keras->keras_layer_normalization) (2.10.0)\n",
            "Requirement already satisfied: six in /usr/local/lib/python3.6/dist-packages (from h5py->Keras->keras_layer_normalization) (1.15.0)\n",
            "Building wheels for collected packages: keras-layer-normalization\n",
            "  Building wheel for keras-layer-normalization (setup.py) ... \u001b[?25l\u001b[?25hdone\n",
            "  Created wheel for keras-layer-normalization: filename=keras_layer_normalization-0.14.0-cp36-none-any.whl size=5267 sha256=ddf5cc8fa39af80690528213e5bbfe0f5db15cbd7a98aebaeaf9850651983ff6\n",
            "  Stored in directory: /root/.cache/pip/wheels/54/80/22/a638a7d406fd155e507aa33d703e3fa2612b9eb7bb4f4fe667\n",
            "Successfully built keras-layer-normalization\n",
            "Installing collected packages: keras-layer-normalization\n",
            "Successfully installed keras-layer-normalization-0.14.0\n"
          ],
          "name": "stdout"
        }
      ]
    },
    {
      "cell_type": "code",
      "metadata": {
        "colab": {
          "base_uri": "https://localhost:8080/"
        },
        "id": "bhs7S64nxO6p",
        "outputId": "4dec7b57-8729-45d2-ffa3-624517ff8348"
      },
      "source": [
        "import os\n",
        "from os import listdir\n",
        "from os.path import join, isdir\n",
        "import numpy as np\n",
        "from PIL import Image\n",
        "import keras\n",
        "from keras.layers import Conv2DTranspose, ConvLSTM2D, TimeDistributed, Conv2D\n",
        "from keras.models import Sequential, load_model\n",
        "from keras_layer_normalization import LayerNormalization\n",
        "import matplotlib.pyplot as plt\n",
        "\n",
        "working_directory = '/content/drive/MyDrive/AnomalyDetectionInVideos'\n",
        "\n",
        "\n",
        "class Config:\n",
        "    SINGLE_TEST_PATH = os.path.join(working_directory, \"files\", \"769a3c79-f730-4f05-becf-ee9535131173\")\n",
        "    BATCH_SIZE = 4\n",
        "    MODEL_PATH = os.path.join(working_directory, \"model.hdf5\")\n",
        "    FRAME_SIZE = 10\n",
        "    THRESHOLD = 150\n",
        "\n",
        "\n",
        "def get_model():\n",
        "    return load_model(Config.MODEL_PATH, custom_objects={'LayerNormalization': LayerNormalization})\n",
        "\n",
        "\n",
        "def get_single_test():\n",
        "    test = np.zeros(shape=(Config.THRESHOLD, 256, 256, 1))\n",
        "    cnt = 0\n",
        "    for f in sorted(listdir(Config.SINGLE_TEST_PATH)):\n",
        "        directory_path = join(Config.SINGLE_TEST_PATH, f)\n",
        "        if isdir(directory_path):\n",
        "            for c in listdir(directory_path):\n",
        "              if len(c) < 7:\n",
        "                os.rename(join(directory_path, c), join(directory_path, c.zfill(7)))\n",
        "\n",
        "    for f in sorted(listdir(Config.SINGLE_TEST_PATH)):\n",
        "        if str(join(Config.SINGLE_TEST_PATH, f))[-3:] == \"tif\":\n",
        "            img = Image.open(join(Config.SINGLE_TEST_PATH, f)).resize((256, 256))\n",
        "            img = np.array(img, dtype=np.float32) / 256.0\n",
        "            test[cnt, :, :, 0] = img\n",
        "            cnt = cnt + 1\n",
        "            if cnt >= Config.THRESHOLD:\n",
        "                break\n",
        "    return test\n",
        "\n",
        "\n",
        "def evaluate(model):\n",
        "    print(\"got model\")\n",
        "    test = get_single_test()\n",
        "    print(\"got test\")\n",
        "    sz = test.shape[0] - Config.FRAME_SIZE\n",
        "    sequences = np.zeros((sz, Config.FRAME_SIZE, 256, 256, 1))\n",
        "    # apply the sliding window technique to get the sequences\n",
        "    for i in range(0, sz):\n",
        "        clip = np.zeros((Config.FRAME_SIZE, 256, 256, 1))\n",
        "        for j in range(0, Config.FRAME_SIZE):\n",
        "            clip[j] = test[i + j, :, :, :]\n",
        "        sequences[i] = clip\n",
        "\n",
        "    # get the reconstruction cost of all the sequences\n",
        "    reconstructed_sequences = model.predict(sequences, batch_size=Config.BATCH_SIZE)\n",
        "    sequences_reconstruction_cost = np.array([np.linalg.norm(np.subtract(sequences[i],reconstructed_sequences[i])) for i in range(0, sz)])\n",
        "    sr = sequences_reconstruction_cost\n",
        "\n",
        "    print(sr)\n",
        "\n",
        "\n",
        "if __name__ == '__main__':\n",
        "    model = get_model()\n",
        "    evaluate(model)"
      ],
      "execution_count": 11,
      "outputs": [
        {
          "output_type": "stream",
          "text": [
            "got model\n",
            "got test\n",
            "[60.58769852 60.53352542 60.74483954 60.69037406 60.74722808 60.88212494\n",
            " 60.84381953 60.52337918 60.32696724 60.2001196  60.09024327 59.75315001\n",
            " 59.93210079 59.83973635 60.02817638 60.39261675 60.41411568 60.21996958\n",
            " 60.73135519 61.03648709 61.31917324 61.79496497 61.74073227 61.99356712\n",
            " 61.53382237 61.91758764 61.54932902 62.32790512 62.4216156  63.03949565\n",
            " 63.5259464  63.82729697 65.14135137 65.55129968 66.8755509  67.24378201\n",
            " 68.21947433 68.13962948 68.80590695 69.09964903 69.8661556  70.28850867\n",
            " 70.51527807 70.65336848 70.80406728 70.87071689 70.9278248  71.00175519\n",
            " 71.23838518 71.02581699 70.68785789 71.06879737 70.96860242 70.90145973\n",
            " 70.82905514 70.94676529 70.67287355 70.19591835 69.56188328 69.36154529\n",
            " 69.18364472 68.89052785 68.89040434 68.58944157 68.87541284 69.41042921\n",
            " 69.80923524 70.27810838 69.63450048 69.5364777  69.25122023 68.86508588\n",
            " 67.95428478 67.41475576 66.93749973 66.1887199  65.35544272 64.48743331\n",
            " 64.40470668 64.18873966 64.3068811  64.21218953 64.00907719 63.70795839\n",
            " 63.38376274 63.07342192 62.18345468 61.75108529 61.07902696 60.87120253\n",
            " 60.94720579 61.08536566 61.11558253 60.80700397 61.34999431 61.63966905\n",
            " 62.40310362 62.37720566 62.62674801 62.74156    62.4148758  61.69338232\n",
            " 61.25420158 60.71291566 59.93694694 58.93931299 57.94011607 56.84960862\n",
            " 55.99648136 55.49251655 54.64158801 53.83409344 53.15146625 52.52422724\n",
            " 51.76321055 51.50096011 50.98797502 50.53655292 50.21679312 49.5571545\n",
            " 49.43102519 49.37821382 49.09194156 48.23121037 48.06493508 47.53302849\n",
            " 46.6502527  45.93338777 44.9960883  44.66957639 43.98724469 43.28060862\n",
            " 42.25565735 41.56629941 40.65247546 39.74844232 38.96446848 38.3234953\n",
            " 38.04352615 37.29367408]\n"
          ],
          "name": "stdout"
        }
      ]
    }
  ]
}