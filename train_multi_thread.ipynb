{
  "nbformat": 4,
  "nbformat_minor": 0,
  "metadata": {
    "colab": {
      "name": "Copy of Copy of Copy of train.ipynb",
      "private_outputs": true,
      "provenance": [],
      "collapsed_sections": [],
      "toc_visible": true,
      "machine_shape": "hm",
      "include_colab_link": true
    },
    "kernelspec": {
      "name": "python3",
      "display_name": "Python 3"
    },
    "accelerator": "GPU"
  },
  "cells": [
    {
      "cell_type": "markdown",
      "metadata": {
        "id": "view-in-github",
        "colab_type": "text"
      },
      "source": [
        "<a href=\"https://colab.research.google.com/github/cbalkig/Anomaly_Detection_in_Videos/blob/master/train_multi_thread.ipynb\" target=\"_parent\"><img src=\"https://colab.research.google.com/assets/colab-badge.svg\" alt=\"Open In Colab\"/></a>"
      ]
    },
    {
      "cell_type": "code",
      "metadata": {
        "id": "Z5l0wNtKs7vP"
      },
      "source": [
        "import os\n",
        "import pandas as pd\n",
        "import numpy as np\n",
        "import keras\n",
        "from keras.layers import Conv2D, Flatten, Dense, Dropout, MaxPooling2D\n",
        "from keras.models import Sequential, load_model\n",
        "import matplotlib.pyplot as plt\n",
        "from keras.preprocessing.image import ImageDataGenerator\n",
        "import time\n",
        "import concurrent.futures"
      ],
      "execution_count": null,
      "outputs": []
    },
    {
      "cell_type": "code",
      "metadata": {
        "id": "hDd3-dzSs82m"
      },
      "source": [
        "working_directory = '/content/drive/MyDrive/AnomalyDetectionInVideos'"
      ],
      "execution_count": null,
      "outputs": []
    },
    {
      "cell_type": "code",
      "metadata": {
        "id": "pKtCPjOYs97U"
      },
      "source": [
        "class Config:\n",
        "    EDIT_DATASET_PATH = os.path.join(working_directory, \"regenerated_files\")\n",
        "    BATCH_SIZE = 256\n",
        "    EPOCHS = 1\n",
        "    MODEL_PATH = os.path.join(working_directory, \"model.hdf5\")\n",
        "    IMAGE_SIZE = 256\n",
        "    THREAD_COUNT = 4"
      ],
      "execution_count": null,
      "outputs": []
    },
    {
      "cell_type": "code",
      "metadata": {
        "id": "t9tnVYvkQR6x"
      },
      "source": [
        "def show_batch(image_batch, label_batch):\n",
        "    plt.figure(figsize=(10,10))\n",
        "    for n in range(10):\n",
        "        ax = plt.subplot(5,5,n+1)\n",
        "        plt.imshow(image_batch[n, :, :, 0], cmap='gray')\n",
        "        plt.axis('off')"
      ],
      "execution_count": null,
      "outputs": []
    },
    {
      "cell_type": "code",
      "metadata": {
        "id": "rxkazTWsRyIb"
      },
      "source": [
        "def plot_acc_loss(trained):\n",
        "    fig, ax = plt.subplots(1, 2, figsize=(15,5))\n",
        "    ax[0].set_title('loss')\n",
        "    ax[0].plot(trained.epoch, trained.history[\"loss\"], label=\"Train loss\")\n",
        "    ax[1].set_title('acc')\n",
        "    ax[1].plot(trained.epoch, trained.history[\"accuracy\"], label=\"Train acc\")\n",
        "    ax[0].legend()\n",
        "    ax[1].legend()"
      ],
      "execution_count": null,
      "outputs": []
    },
    {
      "cell_type": "code",
      "metadata": {
        "id": "zxThkfDO3jDe"
      },
      "source": [
        "def get_model(reload_model=True):\n",
        "    if reload_model:\n",
        "        return load_model(Config.MODEL_PATH)\n",
        "    input_shape = (Config.IMAGE_SIZE, Config.IMAGE_SIZE, 1)\n",
        "\n",
        "    model = Sequential()\n",
        "\n",
        "    model.add(Conv2D(32, kernel_size=3, activation=\"relu\", input_shape=input_shape))\n",
        "    model.add(MaxPooling2D(pool_size=(2, 2)))\n",
        "    model.add(Conv2D(32, kernel_size=3, activation=\"relu\", input_shape=input_shape))\n",
        "    model.add(MaxPooling2D(pool_size=(2, 2)))\n",
        "    model.add(Conv2D(64, kernel_size=3, activation=\"relu\", input_shape=input_shape))\n",
        "    model.add(MaxPooling2D(pool_size=(2, 2)))\n",
        "\n",
        "    model.add(Flatten())\n",
        "    model.add(Dense(64, activation=\"relu\"))\n",
        "    model.add(Dropout(0.5))\n",
        "    model.add(Dense(1, activation=\"sigmoid\"))\n",
        "\n",
        "    model.summary()\n",
        "\n",
        "    model.compile(optimizer='adam', loss='binary_crossentropy', metrics=['accuracy'])\n",
        "    return model"
      ],
      "execution_count": null,
      "outputs": []
    },
    {
      "cell_type": "code",
      "metadata": {
        "id": "34IS1evyZFIM"
      },
      "source": [
        "def fit(id):\n",
        "    print(\"I will start thread\", id)\n",
        "    data = train_generator[id]\n",
        "    history = model.fit(data, epochs=Config.EPOCHS, verbose=1)\n",
        "    print(\"I've finished thread\", id)\n",
        "    return history"
      ],
      "execution_count": null,
      "outputs": []
    },
    {
      "cell_type": "code",
      "metadata": {
        "id": "KPx5SBGnWQ4u"
      },
      "source": [
        "sample_count = sum(len(files) for _, _, files in os.walk(Config.EDIT_DATASET_PATH))\n",
        "print(\"Sample Count\", sample_count)"
      ],
      "execution_count": null,
      "outputs": []
    },
    {
      "cell_type": "code",
      "metadata": {
        "id": "Q4E0m5ljVHu_"
      },
      "source": [
        "#Generate data frame as file_name, class_name (label)\n",
        "image_array = []\n",
        "\n",
        "count = 0\n",
        "for f in sorted(os.listdir(Config.EDIT_DATASET_PATH)):\n",
        "    directory_path = os.path.join(Config.EDIT_DATASET_PATH, f)\n",
        "    if os.path.isdir(directory_path):\n",
        "        class_name = f\n",
        "        for v in sorted(os.listdir(directory_path)):\n",
        "            file_name = os.path.join(directory_path, v)\n",
        "            image_array.append([file_name, f])\n",
        "            count = count + 1\n",
        "\n",
        "df = pd.DataFrame(data=image_array, columns=['file_name', 'label'])\n",
        "print(df.head())"
      ],
      "execution_count": null,
      "outputs": []
    },
    {
      "cell_type": "code",
      "metadata": {
        "id": "jaKeXlAgfmNm"
      },
      "source": [
        "slider = int(sample_count / Config.THREAD_COUNT)\n",
        "\n",
        "sliders = []\n",
        "for i in range(Config.THREAD_COUNT):\n",
        "    sliders.append(i * slider)\n",
        "sliders.append(sample_count)\n",
        "\n",
        "print(\"Sliders\", sliders)\n",
        "\n",
        "df = df.iloc[np.random.permutation(len(df))]\n",
        "\n",
        "dfs = []\n",
        "for i in range(Config.THREAD_COUNT):\n",
        "    dfs.append(df.iloc[sliders[i]:sliders[i+1] - 1])"
      ],
      "execution_count": null,
      "outputs": []
    },
    {
      "cell_type": "code",
      "metadata": {
        "id": "gVPZox-2cXMD"
      },
      "source": [
        "train_datagen = ImageDataGenerator(\n",
        "        rescale=1./255,\n",
        "        shear_range=0.2,\n",
        "        rotation_range=30, \n",
        "        fill_mode='nearest',\n",
        "        brightness_range=[0.4,1.5])\n",
        "\n",
        "train_generator = [None] * Config.THREAD_COUNT\n",
        "for i in range(Config.THREAD_COUNT):\n",
        "    train_generator[i] = train_datagen.flow_from_dataframe(\n",
        "            dataframe=dfs[i],  \n",
        "            directory=Config.EDIT_DATASET_PATH,\n",
        "            x_col=\"file_name\",\n",
        "            y_col=\"label\",\n",
        "            target_size=(Config.IMAGE_SIZE, Config.IMAGE_SIZE),\n",
        "            batch_size=Config.BATCH_SIZE,\n",
        "            shuffle=True,\n",
        "            color_mode = 'grayscale',\n",
        "            class_mode='binary')\n",
        "    print(\"Sample Count after ImageDataGenerator\", train_generator[i].samples)"
      ],
      "execution_count": null,
      "outputs": []
    },
    {
      "cell_type": "code",
      "metadata": {
        "id": "Fe_09tfotJjQ"
      },
      "source": [
        "start_time = time.time()\n",
        "model = get_model(reload_model=False)\n",
        "\n",
        "with concurrent.futures.ThreadPoolExecutor(max_workers=Config.THREAD_COUNT) as executor:\n",
        "    futures = []\n",
        "    for i in range(Config.THREAD_COUNT):\n",
        "        futures.append(\n",
        "          executor.submit(\n",
        "              fit, id = i\n",
        "          )\n",
        "        )\n",
        "\n",
        "    for future in concurrent.futures.as_completed(futures):\n",
        "        history = future.result()\n",
        "        plot_acc_loss(history)\n",
        "\n",
        "print(\"Train Execution time:\", time.time() - start_time, \"seconds.\")\n",
        "print(\"Model is ready.\")\n",
        "model.save(Config.MODEL_PATH)\n",
        "print(\"Model saved : \", Config.MODEL_PATH)"
      ],
      "execution_count": null,
      "outputs": []
    }
  ]
}