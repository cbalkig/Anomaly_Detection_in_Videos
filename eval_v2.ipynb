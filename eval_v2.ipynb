{
  "nbformat": 4,
  "nbformat_minor": 0,
  "metadata": {
    "colab": {
      "name": "Copy of Copy of train.ipynb",
      "private_outputs": true,
      "provenance": [],
      "collapsed_sections": [],
      "toc_visible": true,
      "machine_shape": "hm",
      "include_colab_link": true
    },
    "kernelspec": {
      "name": "python3",
      "display_name": "Python 3"
    },
    "accelerator": "GPU"
  },
  "cells": [
    {
      "cell_type": "markdown",
      "metadata": {
        "id": "view-in-github",
        "colab_type": "text"
      },
      "source": [
        "<a href=\"https://colab.research.google.com/github/cbalkig/Anomaly_Detection_in_Videos/blob/master/eval_v2.ipynb\" target=\"_parent\"><img src=\"https://colab.research.google.com/assets/colab-badge.svg\" alt=\"Open In Colab\"/></a>"
      ]
    },
    {
      "cell_type": "code",
      "metadata": {
        "id": "Z5l0wNtKs7vP"
      },
      "source": [
        "import os\n",
        "from os import listdir\n",
        "from os.path import join, isdir\n",
        "import numpy as np\n",
        "from PIL import Image\n",
        "import keras\n",
        "from keras.layers import Conv2DTranspose, ConvLSTM2D, TimeDistributed, Conv2D\n",
        "from keras.models import Sequential, load_model\n",
        "from tensorflow.keras.layers import Conv2D, Conv3D, BatchNormalization\n",
        "import matplotlib.pyplot as plt\n",
        "import time\n",
        "from numpy import save, load\n",
        "%matplotlib inline\n",
        "import matplotlib.pyplot as plt"
      ],
      "execution_count": null,
      "outputs": []
    },
    {
      "cell_type": "code",
      "metadata": {
        "id": "hDd3-dzSs82m"
      },
      "source": [
        "working_directory = '/content/drive/MyDrive/AnomalyDetectionInVideos'"
      ],
      "execution_count": null,
      "outputs": []
    },
    {
      "cell_type": "code",
      "metadata": {
        "id": "pKtCPjOYs97U"
      },
      "source": [
        "class Config:\n",
        "    DATASET_PATH = os.path.join(working_directory, \"test\")\n",
        "    TEST_FOLDER = \"test_a615dbdd-a9bc-4e76-a042-3d157bc87859\"\n",
        "    MODEL_PATH = os.path.join(working_directory, \"model.hdf5\")\n",
        "    FRAME_SIZE = 159"
      ],
      "execution_count": null,
      "outputs": []
    },
    {
      "cell_type": "code",
      "metadata": {
        "id": "SEitB-7qtDeZ"
      },
      "source": [
        "def get_test_data():\n",
        "    # Process all videos and generate videos np array with shape: (Config.SAMPLES_COUNT, Config.FRAME_SIZE, 256, 256)\n",
        "    video = np.zeros((Config.FRAME_SIZE, 256, 256, 1))\n",
        "    directory_path = join(Config.DATASET_PATH, Config.TEST_FOLDER)\n",
        "    if isdir(directory_path):\n",
        "        print(\"Processing\", directory_path)\n",
        "        count = 0\n",
        "        for c in sorted(listdir(directory_path)):\n",
        "            #print(\"Frame #\", count)\n",
        "            img_path = join(directory_path, c)\n",
        "            if str(img_path)[-3:] == \"tif\":\n",
        "                img = Image.open(img_path).resize((256, 256))\n",
        "                img = np.array(img, dtype=np.float32) / 256.0\n",
        "                img = np.reshape(img, img.shape + (1,))\n",
        "                video[count] = img\n",
        "            count = count + 1\n",
        "    return video"
      ],
      "execution_count": null,
      "outputs": []
    },
    {
      "cell_type": "code",
      "metadata": {
        "id": "S93thOCmzGJd"
      },
      "source": [
        "test_data = get_test_data()\n",
        "test_data = np.array(test_data)\n",
        "save(join(Config.DATASET_PATH, 'test_data.npy'), test_data)\n",
        "print(\"Shape of test data\", test_data.shape)"
      ],
      "execution_count": null,
      "outputs": []
    },
    {
      "cell_type": "code",
      "metadata": {
        "id": "RfXR-gBgJbMw"
      },
      "source": [
        "#test_data = load(join(Config.DATASET_PATH, 'test_data.npy'))"
      ],
      "execution_count": null,
      "outputs": []
    },
    {
      "cell_type": "code",
      "metadata": {
        "id": "0S2n19tZPdLJ"
      },
      "source": [
        "previous_test_data = test_data[:15]\n",
        "print(previous_test_data.shape)"
      ],
      "execution_count": null,
      "outputs": []
    },
    {
      "cell_type": "code",
      "metadata": {
        "id": "zxThkfDO3jDe"
      },
      "source": [
        "def get_model(reload_model=True):\n",
        "    return load_model(Config.MODEL_PATH,custom_objects={'BatchNormalization': BatchNormalization})"
      ],
      "execution_count": null,
      "outputs": []
    },
    {
      "cell_type": "code",
      "metadata": {
        "id": "Fe_09tfotJjQ"
      },
      "source": [
        "model = get_model()\n",
        "print(\"Model is ready.\")"
      ],
      "execution_count": null,
      "outputs": []
    },
    {
      "cell_type": "code",
      "metadata": {
        "id": "ABPAHkxlRu3d"
      },
      "source": [
        "prediction = seq.predict(previous_test_data)\n",
        "real = test_data[16]\n",
        "\n",
        "fig, ax = plt.subplots()\n",
        "fig.suptitle('Real Frame', fontsize=20)\n",
        "ax.imshow(real[:,:,0], cmap=\"gray\")\n",
        "ax.spines['top'].set_visible(False)\n",
        "ax.spines['left'].set_visible(False)\n",
        "ax.spines['bottom'].set_visible(False)\n",
        "ax.spines['right'].set_visible(False)\n",
        "ax.set_xticks([])\n",
        "ax.set_yticks([])\n",
        "plt.show()\n",
        "\n",
        "fig, ax = plt.subplots()\n",
        "fig.suptitle('Predicted Frame', fontsize=20)\n",
        "ax.imshow(prediction[:,:,0], cmap=\"gray\")\n",
        "ax.spines['top'].set_visible(False)\n",
        "ax.spines['left'].set_visible(False)\n",
        "ax.spines['bottom'].set_visible(False)\n",
        "ax.spines['right'].set_visible(False)\n",
        "ax.set_xticks([])\n",
        "ax.set_yticks([])\n",
        "plt.show()"
      ],
      "execution_count": null,
      "outputs": []
    },
    {
      "cell_type": "code",
      "metadata": {
        "id": "W-tPQ86uQWb6"
      },
      "source": [
        ""
      ],
      "execution_count": null,
      "outputs": []
    }
  ]
}